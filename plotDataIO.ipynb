{
 "cells": [
  {
   "cell_type": "code",
   "execution_count": 1,
   "metadata": {
    "collapsed": true
   },
   "outputs": [],
   "source": [
    "%matplotlib inline"
   ]
  },
  {
   "cell_type": "code",
   "execution_count": 3,
   "metadata": {
    "collapsed": true
   },
   "outputs": [],
   "source": [
    "import numpy as np\n",
    "import scipy.special as scsp\n",
    "import matplotlib.pyplot as plt"
   ]
  },
  {
   "cell_type": "code",
   "execution_count": 43,
   "metadata": {
    "collapsed": true
   },
   "outputs": [],
   "source": [
    "x=np.arange(0,3,0.2)"
   ]
  },
  {
   "cell_type": "code",
   "execution_count": 44,
   "metadata": {
    "collapsed": true
   },
   "outputs": [],
   "source": [
    "erf=scsp.erf(x)"
   ]
  },
  {
   "cell_type": "code",
   "execution_count": 45,
   "metadata": {
    "collapsed": true
   },
   "outputs": [],
   "source": [
    "erfc=scsp.erfc(x)"
   ]
  },
  {
   "cell_type": "code",
   "execution_count": 46,
   "metadata": {
    "collapsed": false
   },
   "outputs": [
    {
     "name": "stdout",
     "output_type": "stream",
     "text": [
      "[[  0.00000000e+00   2.00000000e-01   4.00000000e-01   6.00000000e-01\n",
      "    8.00000000e-01   1.00000000e+00   1.20000000e+00   1.40000000e+00\n",
      "    1.60000000e+00   1.80000000e+00   2.00000000e+00   2.20000000e+00\n",
      "    2.40000000e+00   2.60000000e+00   2.80000000e+00]\n",
      " [  0.00000000e+00   2.22702589e-01   4.28392355e-01   6.03856091e-01\n",
      "    7.42100965e-01   8.42700793e-01   9.10313978e-01   9.52285120e-01\n",
      "    9.76348383e-01   9.89090502e-01   9.95322265e-01   9.98137154e-01\n",
      "    9.99311486e-01   9.99763966e-01   9.99924987e-01]\n",
      " [  1.00000000e+00   7.77297411e-01   5.71607645e-01   3.96143909e-01\n",
      "    2.57899035e-01   1.57299207e-01   8.96860218e-02   4.77148802e-02\n",
      "    2.36516167e-02   1.09094984e-02   4.67773498e-03   1.86284630e-03\n",
      "    6.88513897e-04   2.36034417e-04   7.50131947e-05]]\n"
     ]
    }
   ],
   "source": [
    "X=np.array([x,erf,erfc])\n",
    "print X"
   ]
  },
  {
   "cell_type": "code",
   "execution_count": 47,
   "metadata": {
    "collapsed": false
   },
   "outputs": [
    {
     "name": "stdout",
     "output_type": "stream",
     "text": [
      "[[  0.00000000e+00   0.00000000e+00   1.00000000e+00]\n",
      " [  2.00000000e-01   2.22702589e-01   7.77297411e-01]\n",
      " [  4.00000000e-01   4.28392355e-01   5.71607645e-01]\n",
      " [  6.00000000e-01   6.03856091e-01   3.96143909e-01]\n",
      " [  8.00000000e-01   7.42100965e-01   2.57899035e-01]\n",
      " [  1.00000000e+00   8.42700793e-01   1.57299207e-01]\n",
      " [  1.20000000e+00   9.10313978e-01   8.96860218e-02]\n",
      " [  1.40000000e+00   9.52285120e-01   4.77148802e-02]\n",
      " [  1.60000000e+00   9.76348383e-01   2.36516167e-02]\n",
      " [  1.80000000e+00   9.89090502e-01   1.09094984e-02]\n",
      " [  2.00000000e+00   9.95322265e-01   4.67773498e-03]\n",
      " [  2.20000000e+00   9.98137154e-01   1.86284630e-03]\n",
      " [  2.40000000e+00   9.99311486e-01   6.88513897e-04]\n",
      " [  2.60000000e+00   9.99763966e-01   2.36034417e-04]\n",
      " [  2.80000000e+00   9.99924987e-01   7.50131947e-05]]\n"
     ]
    }
   ],
   "source": [
    "X=X.T\n",
    "print X"
   ]
  },
  {
   "cell_type": "code",
   "execution_count": 48,
   "metadata": {
    "collapsed": false
   },
   "outputs": [],
   "source": [
    "np.savetxt(\"./data.dat\",X,fmt='%1.4e',delimiter=',',newline='\\n')"
   ]
  },
  {
   "cell_type": "code",
   "execution_count": 49,
   "metadata": {
    "collapsed": true
   },
   "outputs": [],
   "source": [
    "t,y,z=np.loadtxt(\"./data.dat\",delimiter=',',unpack=\"True\")"
   ]
  },
  {
   "cell_type": "code",
   "execution_count": 54,
   "metadata": {
    "collapsed": false
   },
   "outputs": [
    {
     "data": {
      "image/png": "[encoded data removed]",
      "text/plain": [
       "<matplotlib.figure.Figure at 0x7fd8d687b910>"
      ]
     },
     "metadata": {},
     "output_type": "display_data"
    }
   ],
   "source": [
    "fig=plt.figure()\n",
    "fsize=14\n",
    "ax1=fig.add_subplot(111)\n",
    "\n",
    "ax1.plot(t,y,label=\"$J_{0}(x)$\")\n",
    "ax1.plot(t,z,label=\"$J_{0}(x)$\")\n",
    "\n",
    "ax1.set_title(\"Bessel function $J_{0}(x)$\")\n",
    "ax1.set_xlabel(\"x\",fontsize=fsize)\n",
    "ax1.set_ylabel(\"$J_{0}(x)$\",fontsize=fsize)\n",
    "ax1.grid()\n",
    "ax1.legend(loc=0).get_frame().set_facecolor('#FFFFFF')"
   ]
  }
 ],
 "metadata": {
  "kernelspec": {
   "display_name": "Python 2",
   "language": "python",
   "name": "python2"
  },
  "language_info": {
   "codemirror_mode": {
    "name": "ipython",
    "version": 2
   },
   "file_extension": ".py",
   "mimetype": "text/x-python",
   "name": "python",
   "nbconvert_exporter": "python",
   "pygments_lexer": "ipython2",
   "version": "2.7.9"
  }
 },
 "nbformat": 4,
 "nbformat_minor": 0
}
